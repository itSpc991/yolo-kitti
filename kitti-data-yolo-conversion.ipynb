{
 "cells": [
  {
   "cell_type": "code",
   "execution_count": null,
   "metadata": {
    "_cell_guid": "b1076dfc-b9ad-4769-8c92-a6c4dae69d19",
    "_uuid": "8f2839f25d086af736a60e9eeb907d3b93b6e0e5",
    "execution": {
     "iopub.execute_input": "2023-08-27T17:41:04.593668Z",
     "iopub.status.busy": "2023-08-27T17:41:04.593297Z",
     "iopub.status.idle": "2023-08-27T17:41:04.598786Z",
     "shell.execute_reply": "2023-08-27T17:41:04.598150Z",
     "shell.execute_reply.started": "2023-08-27T17:41:04.593641Z"
    },
    "trusted": true
   },
   "outputs": [],
   "source": [
    "import numpy as np\n",
    "import pandas as pd\n",
    "import matplotlib.pyplot as plt\n",
    "import cv2 as cv\n",
    "from pathlib import Path\n",
    "from tqdm.auto import tqdm\n",
    "from types import SimpleNamespace\n",
    "import os\n",
    "from PIL import Image\n",
    "import csv"
   ]
  },
  {
   "cell_type": "code",
   "execution_count": 2,
   "metadata": {
    "execution": {
     "iopub.execute_input": "2023-08-27T17:06:27.549069Z",
     "iopub.status.busy": "2023-08-27T17:06:27.548521Z",
     "iopub.status.idle": "2023-08-27T17:06:27.903196Z",
     "shell.execute_reply": "2023-08-27T17:06:27.902212Z",
     "shell.execute_reply.started": "2023-08-27T17:06:27.549028Z"
    },
    "trusted": true
   },
   "outputs": [],
   "source": [
    "meta = SimpleNamespace(base_dir = Path('./KITTI'))\n",
    "meta.label_path = meta.base_dir / 'data_object_label_2' / 'training' / 'label_2'\n",
    "meta.img_path = meta.base_dir / 'data_object_image_2' / 'training' / 'image_2'\n",
    "meta.img_stereo_path = meta.base_dir / 'data_object_image_3' / 'training' / 'image_3'\n",
    "meta.calib_path = meta.base_dir / 'data_object_calib' / 'training' / 'calib'\n",
    "meta.ims = sorted(list(meta.img_path.glob('*')))\n",
    "meta.labels = sorted(list(meta.label_path.glob('*')))\n",
    "meta.stereo_ims = sorted(list(meta.img_stereo_path.glob('*')))\n",
    "meta.label_colors = {\n",
    "    'Car': (255,0,0), \n",
    "    'Van': (255,255,0), \n",
    "    'Truck': (255,255,255),\n",
    "    'Pedestrian': (0,255,255),\n",
    "    'Person_sitting': (0,255,255), \n",
    "    'Cyclist': (0,128,255), \n",
    "    'Tram': (128,0,0),\n",
    "    'Misc': (0,255,255),\n",
    "    'DontCare': (255,255,0)\n",
    "}\n",
    "meta.label_cols = [\n",
    "    'label', 'truncated', 'occluded', 'alpha', \n",
    "    'bbox_xmin', 'bbox_ymin', 'bbox_xmax', \n",
    "    'bbox_ymax', 'dim_height', 'dim_width', 'dim_length', \n",
    "    'loc_x', 'loc_y', 'loc_z', 'rotation_y', 'score'\n",
    "]\n",
    "\n",
    "meta.df = pd.DataFrame({\n",
    "    'image': meta.ims,\n",
    "    'stereo_image': meta.stereo_ims,\n",
    "    'label': meta.labels\n",
    "})\n",
    "\n",
    "meta.im_width = 256\n",
    "meta.im_height = 160"
   ]
  },
  {
   "cell_type": "markdown",
   "metadata": {},
   "source": [
    "| Number of Values | Name         | Description                                                                                  |\n",
    "|--------|--------------|----------------------------------------------------------------------------------------------|\n",
    "|      1 | type         | Describes the type of object: 'Car', 'Van', 'Truck', 'Pedestrian', 'Person_sitting', 'Cyclist', 'Tram', 'Misc' or 'DontCare' |\n",
    "|      1 | truncated    | Float from 0 (non-truncated) to 1 (truncated), where truncated refers to the object leaving image boundaries |\n",
    "|      1 | occluded     | Integer (0,1,2,3) indicating occlusion state: 0 = fully visible, 1 = partly occluded, 2 = largely occluded, 3 = unknown |\n",
    "|      1 | alpha        | Observation angle of object, ranging [-pi..pi]                                               |\n",
    "|      4 | bbox         | 2D bounding box of object in the image (0-based index): contains left, top, right, bottom pixel coordinates |\n",
    "|      3 | dimensions   | 3D object dimensions: height, width, length (in meters)                                    |\n",
    "|      3 | location     | 3D object location x,y,z in camera coordinates (in meters)                                 |\n",
    "|      1 | rotation_y   | Rotation ry around Y-axis in camera coordinates [-pi..pi]                                   |\n",
    "|      1 | score        | Only for results: Float, indicating confidence in detection, needed for p/r curves, higher is better. |\n",
    "\n",
    "\n"
   ]
  },
  {
   "cell_type": "code",
   "execution_count": 3,
   "metadata": {
    "execution": {
     "iopub.execute_input": "2023-08-27T17:07:29.817446Z",
     "iopub.status.busy": "2023-08-27T17:07:29.817065Z",
     "iopub.status.idle": "2023-08-27T17:07:29.823286Z",
     "shell.execute_reply": "2023-08-27T17:07:29.821907Z",
     "shell.execute_reply.started": "2023-08-27T17:07:29.817417Z"
    },
    "trusted": true
   },
   "outputs": [],
   "source": [
    "def get_label(p):\n",
    "    data =  pd.read_csv(\n",
    "        p, \n",
    "        sep=\" \",\n",
    "        names=meta.label_cols[:15],\n",
    "        usecols = meta.label_cols[:15]\n",
    "    )\n",
    "    return data"
   ]
  },
  {
   "cell_type": "code",
   "execution_count": null,
   "metadata": {
    "execution": {
     "iopub.execute_input": "2023-08-27T17:31:11.655435Z",
     "iopub.status.busy": "2023-08-27T17:31:11.655040Z",
     "iopub.status.idle": "2023-08-27T17:31:11.681797Z",
     "shell.execute_reply": "2023-08-27T17:31:11.680449Z",
     "shell.execute_reply.started": "2023-08-27T17:31:11.655389Z"
    },
    "trusted": true
   },
   "outputs": [],
   "source": [
    "get_label(meta.df['label'][55])"
   ]
  },
  {
   "cell_type": "code",
   "execution_count": 5,
   "metadata": {
    "execution": {
     "iopub.execute_input": "2023-08-27T17:07:42.687893Z",
     "iopub.status.busy": "2023-08-27T17:07:42.687508Z",
     "iopub.status.idle": "2023-08-27T17:07:42.696680Z",
     "shell.execute_reply": "2023-08-27T17:07:42.695331Z",
     "shell.execute_reply.started": "2023-08-27T17:07:42.687863Z"
    },
    "trusted": true
   },
   "outputs": [],
   "source": [
    "def open_image(p):\n",
    "    im = cv.imread(str(p))\n",
    "    im = cv.cvtColor(im,cv.COLOR_BGR2RGB)\n",
    "    return im\n",
    "\n",
    "def draw_box2d(idx, ax = None):\n",
    "    sample = meta.df.iloc[idx,:]\n",
    "    img = open_image(sample['image'])\n",
    "    labels = get_label(sample['label'])\n",
    "    for index, row in labels.iterrows():\n",
    "        left_corner = (int(row.bbox_xmin), int(row.bbox_ymin))\n",
    "        right_corner = (int(row.bbox_xmax), int(row.bbox_ymax))\n",
    "        \n",
    "        if row.label == 'DontCare':\n",
    "            continue\n",
    "        \n",
    "        label_color = meta.label_colors.get(row.label,(0,255,0))\n",
    "        img = cv.rectangle(img,left_corner, right_corner, label_color, 2)\n",
    "        img = cv.putText(img, row.label, \n",
    "                        (left_corner[0] + 10, left_corner[1] - 4) , \n",
    "                        cv.FONT_HERSHEY_SIMPLEX, 1, \n",
    "                        label_color, 3)\n",
    "    \n",
    "    if ax == None:\n",
    "        plt.imshow(img)\n",
    "    else:\n",
    "        ax.imshow(img)"
   ]
  },
  {
   "cell_type": "code",
   "execution_count": null,
   "metadata": {
    "execution": {
     "iopub.execute_input": "2023-08-27T17:08:04.589724Z",
     "iopub.status.busy": "2023-08-27T17:08:04.589347Z",
     "iopub.status.idle": "2023-08-27T17:08:04.932453Z",
     "shell.execute_reply": "2023-08-27T17:08:04.931463Z",
     "shell.execute_reply.started": "2023-08-27T17:08:04.589682Z"
    },
    "trusted": true
   },
   "outputs": [],
   "source": [
    "draw_box2d(6)"
   ]
  },
  {
   "cell_type": "code",
   "execution_count": null,
   "metadata": {
    "execution": {
     "iopub.execute_input": "2023-08-27T17:12:28.508983Z",
     "iopub.status.busy": "2023-08-27T17:12:28.508512Z",
     "iopub.status.idle": "2023-08-27T17:12:28.829115Z",
     "shell.execute_reply": "2023-08-27T17:12:28.827920Z",
     "shell.execute_reply.started": "2023-08-27T17:12:28.508944Z"
    },
    "trusted": true
   },
   "outputs": [],
   "source": [
    "plt.imshow(open_image(meta.df['stereo_image'][123]))"
   ]
  },
  {
   "cell_type": "code",
   "execution_count": null,
   "metadata": {
    "execution": {
     "iopub.execute_input": "2023-08-27T17:59:47.749508Z",
     "iopub.status.busy": "2023-08-27T17:59:47.749013Z",
     "iopub.status.idle": "2023-08-27T18:00:36.093866Z",
     "shell.execute_reply": "2023-08-27T18:00:36.092349Z",
     "shell.execute_reply.started": "2023-08-27T17:59:47.749471Z"
    },
    "trusted": true
   },
   "outputs": [],
   "source": [
    "all_classes = []\n",
    "\n",
    "OUT_LABELS_DIR = \"labels_with_dont_care\"\n",
    "\n",
    "KEY_DONT_CARE = \"DontCare\"\n",
    "\n",
    "class_names = ['Car', 'Pedestrian', 'Van', 'Cyclist', 'Truck', 'Misc', 'Tram', 'Person_sitting', 'DontCare']\n",
    "\n",
    "CLAZZ_NUMBERS = {\n",
    "    name: idx for idx,name in enumerate(class_names)\n",
    "}\n",
    "\n",
    "def getSampleId(path):\n",
    "    basename = os.path.basename(path)\n",
    "    return os.path.splitext(basename)[0]\n",
    "\n",
    "def resolveClazzNumberOrNone(clazz, use_dont_care):\n",
    "    if use_dont_care and clazz == KEY_DONT_CARE:\n",
    "        return CLAZZ_NUMBERS[clazz]\n",
    "    elif clazz != KEY_DONT_CARE:\n",
    "        return CLAZZ_NUMBERS[clazz]\n",
    "    return None\n",
    "\n",
    "def convertToYoloBBox(bbox, size):\n",
    "    dw = 1. / size[0]\n",
    "    dh = 1. / size[1]\n",
    "    x = (bbox[0] + bbox[1]) / 2.0\n",
    "    y = (bbox[2] + bbox[3]) / 2.0\n",
    "    w = bbox[1] - bbox[0]\n",
    "    h = bbox[3] - bbox[2]\n",
    "    x = x * dw\n",
    "    w = w * dw\n",
    "    y = y * dh\n",
    "    h = h * dh\n",
    "    return (x, y, w, h)\n",
    "\n",
    "def readRealImageSize(img_path):\n",
    "    return Image.open(img_path).size\n",
    "\n",
    "def readFixedImageSize():\n",
    "    return (1242, 375)\n",
    "\n",
    "def parseSample(lbl_path, img_path, use_dont_care):\n",
    "    with open(lbl_path) as csv_file:\n",
    "        reader = csv.DictReader(csv_file, fieldnames=[\"type\", \"truncated\", \"occluded\", \"alpha\", \"bbox2_left\", \"bbox2_top\", \"bbox2_right\", \"bbox2_bottom\", \"bbox3_height\", \"bbox3_width\", \"bbox3_length\", \"bbox3_x\", \"bbox3_y\", \"bbox3_z\", \"bbox3_yaw\", \"score\"], delimiter=\" \")\n",
    "        yolo_labels = []\n",
    "        for row in reader:\n",
    "            all_classes.append(row['type'])\n",
    "            clazz_number = resolveClazzNumberOrNone(row[\"type\"], use_dont_care)\n",
    "            if clazz_number is not None:\n",
    "                size = readRealImageSize(img_path)\n",
    "                bbox = (\n",
    "                        float(row[\"bbox2_left\"]),\n",
    "                        float(row[\"bbox2_right\"]),\n",
    "                        float(row[\"bbox2_top\"]),\n",
    "                        float(row[\"bbox2_bottom\"])\n",
    "                    )\n",
    "                yolo_bbox = convertToYoloBBox(bbox, size)\n",
    "                yolo_label = (clazz_number,) + yolo_bbox\n",
    "                yolo_labels.append(yolo_label)\n",
    "    return yolo_labels\n",
    "\n",
    "\n",
    "args = SimpleNamespace(\n",
    "    label_dir = str(meta.label_path),\n",
    "    image_2_dir = str(meta.img_path),\n",
    "    training_samples = 1,\n",
    "    use_dont_care = True\n",
    ")\n",
    "\n",
    "if not os.path.exists(OUT_LABELS_DIR):\n",
    "    os.makedirs(OUT_LABELS_DIR)\n",
    "\n",
    "print(\"Generating darknet labels...\")\n",
    "sample_img_pathes = []\n",
    "for dir_path, sub_dirs, files in os.walk(args.label_dir):\n",
    "    for file_name in tqdm(files):\n",
    "        if file_name.endswith(\".txt\"):\n",
    "            lbl_path = os.path.join(dir_path, file_name)\n",
    "            sample_id = getSampleId(lbl_path)\n",
    "            img_path = os.path.join(args.image_2_dir, \"{}.png\".format(sample_id))\n",
    "            sample_img_pathes.append(img_path)\n",
    "            yolo_labels = parseSample(lbl_path, img_path, args.use_dont_care)\n",
    "            with open(os.path.join(OUT_LABELS_DIR, \"{}.txt\".format(sample_id)), \"w\") as yolo_label_file:\n",
    "                for lbl in yolo_labels:\n",
    "                    yolo_label_file.write(\"{} {} {} {} {}\\n\".format(*lbl))"
   ]
  },
  {
   "cell_type": "code",
   "execution_count": 9,
   "metadata": {
    "execution": {
     "iopub.execute_input": "2023-08-27T17:57:06.651608Z",
     "iopub.status.busy": "2023-08-27T17:57:06.651174Z",
     "iopub.status.idle": "2023-08-27T17:57:06.656877Z",
     "shell.execute_reply": "2023-08-27T17:57:06.655913Z",
     "shell.execute_reply.started": "2023-08-27T17:57:06.651573Z"
    },
    "trusted": true
   },
   "outputs": [],
   "source": [
    "import json"
   ]
  },
  {
   "cell_type": "code",
   "execution_count": 10,
   "metadata": {
    "execution": {
     "iopub.execute_input": "2023-08-27T18:00:37.876171Z",
     "iopub.status.busy": "2023-08-27T18:00:37.874828Z",
     "iopub.status.idle": "2023-08-27T18:00:37.886916Z",
     "shell.execute_reply": "2023-08-27T18:00:37.881860Z",
     "shell.execute_reply.started": "2023-08-27T18:00:37.876118Z"
    },
    "trusted": true
   },
   "outputs": [],
   "source": [
    "with open('classes_with_dont_care.json','w') as f:\n",
    "    json.dump(CLAZZ_NUMBERS,f)"
   ]
  },
  {
   "cell_type": "code",
   "execution_count": null,
   "metadata": {
    "execution": {
     "iopub.execute_input": "2023-08-27T18:00:45.341606Z",
     "iopub.status.busy": "2023-08-27T18:00:45.341233Z",
     "iopub.status.idle": "2023-08-27T18:00:45.349251Z",
     "shell.execute_reply": "2023-08-27T18:00:45.347975Z",
     "shell.execute_reply.started": "2023-08-27T18:00:45.341576Z"
    },
    "trusted": true
   },
   "outputs": [],
   "source": [
    "CLAZZ_NUMBERS"
   ]
  }
 ],
 "metadata": {
  "kernelspec": {
   "display_name": "yolo-kitti",
   "language": "python",
   "name": "python3"
  },
  "language_info": {
   "codemirror_mode": {
    "name": "ipython",
    "version": 3
   },
   "file_extension": ".py",
   "mimetype": "text/x-python",
   "name": "python",
   "nbconvert_exporter": "python",
   "pygments_lexer": "ipython3",
   "version": "3.9.16"
  }
 },
 "nbformat": 4,
 "nbformat_minor": 4
}
