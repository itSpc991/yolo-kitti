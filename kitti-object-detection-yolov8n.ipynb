{
 "cells": [
  {
   "cell_type": "code",
   "execution_count": null,
   "id": "e5b4cd8a",
   "metadata": {
    "execution": {
     "iopub.execute_input": "2023-08-28T07:05:55.304607Z",
     "iopub.status.busy": "2023-08-28T07:05:55.303362Z",
     "iopub.status.idle": "2023-08-28T07:06:08.502009Z",
     "shell.execute_reply": "2023-08-28T07:06:08.500686Z"
    },
    "papermill": {
     "duration": 13.210407,
     "end_time": "2023-08-28T07:06:08.504770",
     "exception": false,
     "start_time": "2023-08-28T07:05:55.294363",
     "status": "completed"
    },
    "tags": []
   },
   "outputs": [],
   "source": [
    "%pip install ultralytics -q"
   ]
  },
  {
   "cell_type": "code",
   "execution_count": null,
   "id": "41ed8b3b",
   "metadata": {
    "execution": {
     "iopub.execute_input": "2023-08-28T07:06:08.522148Z",
     "iopub.status.busy": "2023-08-28T07:06:08.520497Z",
     "iopub.status.idle": "2023-08-28T07:06:08.528504Z",
     "shell.execute_reply": "2023-08-28T07:06:08.527643Z"
    },
    "papermill": {
     "duration": 0.018263,
     "end_time": "2023-08-28T07:06:08.530473",
     "exception": false,
     "start_time": "2023-08-28T07:06:08.512210",
     "status": "completed"
    },
    "tags": []
   },
   "outputs": [],
   "source": [
    "%env WANDB_DISABLED=True"
   ]
  },
  {
   "cell_type": "code",
   "execution_count": 31,
   "id": "30fded0e",
   "metadata": {
    "execution": {
     "iopub.execute_input": "2023-08-28T07:06:08.546434Z",
     "iopub.status.busy": "2023-08-28T07:06:08.545782Z",
     "iopub.status.idle": "2023-08-28T07:06:13.546503Z",
     "shell.execute_reply": "2023-08-28T07:06:13.545533Z"
    },
    "papermill": {
     "duration": 5.01128,
     "end_time": "2023-08-28T07:06:13.548849",
     "exception": false,
     "start_time": "2023-08-28T07:06:08.537569",
     "status": "completed"
    },
    "tags": []
   },
   "outputs": [],
   "source": [
    "from ultralytics import YOLO\n",
    "import numpy as np\n",
    "import pandas as pd\n",
    "import matplotlib.pyplot as plt\n",
    "from pathlib import Path\n",
    "import json\n",
    "from sklearn.model_selection import train_test_split\n",
    "from tqdm.auto import tqdm\n",
    "import shutil\n",
    "from PIL import Image"
   ]
  },
  {
   "cell_type": "code",
   "execution_count": null,
   "id": "b47a8e17",
   "metadata": {
    "execution": {
     "iopub.execute_input": "2023-08-28T07:06:13.581579Z",
     "iopub.status.busy": "2023-08-28T07:06:13.580446Z",
     "iopub.status.idle": "2023-08-28T07:06:13.592544Z",
     "shell.execute_reply": "2023-08-28T07:06:13.591628Z"
    },
    "papermill": {
     "duration": 0.021976,
     "end_time": "2023-08-28T07:06:13.594530",
     "exception": false,
     "start_time": "2023-08-28T07:06:13.572554",
     "status": "completed"
    },
    "tags": []
   },
   "outputs": [],
   "source": [
    "base_dir = Path('./KITTI')\n",
    "img_path = base_dir / 'data_object_image_2' / 'training' / 'image_2'\n",
    "label_path = Path('./labels_with_dont_care')\n",
    "with open('./classes_with_dont_care.json','r') as f:\n",
    "    classes = json.load(f)\n",
    "\n",
    "classes"
   ]
  },
  {
   "cell_type": "code",
   "execution_count": null,
   "id": "92df76cc",
   "metadata": {
    "execution": {
     "iopub.execute_input": "2023-08-28T07:06:13.610250Z",
     "iopub.status.busy": "2023-08-28T07:06:13.609992Z",
     "iopub.status.idle": "2023-08-28T07:06:14.641418Z",
     "shell.execute_reply": "2023-08-28T07:06:14.640541Z"
    },
    "papermill": {
     "duration": 1.041739,
     "end_time": "2023-08-28T07:06:14.643584",
     "exception": false,
     "start_time": "2023-08-28T07:06:13.601845",
     "status": "completed"
    },
    "tags": []
   },
   "outputs": [],
   "source": [
    "ims = sorted(list(img_path.glob('*')))\n",
    "labels = sorted(list(label_path.glob('*')))\n",
    "pairs = list(zip(ims,labels))\n",
    "pairs[:2]"
   ]
  },
  {
   "cell_type": "code",
   "execution_count": null,
   "id": "16f97de4",
   "metadata": {
    "execution": {
     "iopub.execute_input": "2023-08-28T07:06:14.674765Z",
     "iopub.status.busy": "2023-08-28T07:06:14.674453Z",
     "iopub.status.idle": "2023-08-28T07:06:14.683097Z",
     "shell.execute_reply": "2023-08-28T07:06:14.682115Z"
    },
    "papermill": {
     "duration": 0.019062,
     "end_time": "2023-08-28T07:06:14.685153",
     "exception": false,
     "start_time": "2023-08-28T07:06:14.666091",
     "status": "completed"
    },
    "tags": []
   },
   "outputs": [],
   "source": [
    "train, test = train_test_split(pairs,test_size=0.1,shuffle=True)\n",
    "len(train), len(test)"
   ]
  },
  {
   "cell_type": "code",
   "execution_count": 6,
   "id": "9bd7496d",
   "metadata": {
    "execution": {
     "iopub.execute_input": "2023-08-28T07:06:14.701277Z",
     "iopub.status.busy": "2023-08-28T07:06:14.701009Z",
     "iopub.status.idle": "2023-08-28T07:06:14.706528Z",
     "shell.execute_reply": "2023-08-28T07:06:14.705437Z"
    },
    "papermill": {
     "duration": 0.015752,
     "end_time": "2023-08-28T07:06:14.708485",
     "exception": false,
     "start_time": "2023-08-28T07:06:14.692733",
     "status": "completed"
    },
    "tags": []
   },
   "outputs": [],
   "source": [
    "train_path = Path('train').resolve()\n",
    "train_path.mkdir(exist_ok=True)\n",
    "valid_path = Path('valid').resolve()\n",
    "valid_path.mkdir(exist_ok=True)"
   ]
  },
  {
   "cell_type": "code",
   "execution_count": null,
   "id": "8562f84b",
   "metadata": {
    "execution": {
     "iopub.execute_input": "2023-08-28T07:06:14.725510Z",
     "iopub.status.busy": "2023-08-28T07:06:14.724722Z",
     "iopub.status.idle": "2023-08-28T07:08:43.123548Z",
     "shell.execute_reply": "2023-08-28T07:08:43.122593Z"
    },
    "papermill": {
     "duration": 148.409332,
     "end_time": "2023-08-28T07:08:43.125589",
     "exception": false,
     "start_time": "2023-08-28T07:06:14.716257",
     "status": "completed"
    },
    "tags": []
   },
   "outputs": [],
   "source": [
    "for t_img, t_lb in tqdm(train):\n",
    "    im_path = train_path / t_img.name\n",
    "    lb_path = train_path / t_lb.name\n",
    "    shutil.copy(t_img,im_path)\n",
    "    shutil.copy(t_lb,lb_path)"
   ]
  },
  {
   "cell_type": "code",
   "execution_count": null,
   "id": "09d22105",
   "metadata": {
    "execution": {
     "iopub.execute_input": "2023-08-28T07:08:43.143838Z",
     "iopub.status.busy": "2023-08-28T07:08:43.143516Z",
     "iopub.status.idle": "2023-08-28T07:08:58.272704Z",
     "shell.execute_reply": "2023-08-28T07:08:58.271682Z"
    },
    "papermill": {
     "duration": 15.140627,
     "end_time": "2023-08-28T07:08:58.274820",
     "exception": false,
     "start_time": "2023-08-28T07:08:43.134193",
     "status": "completed"
    },
    "tags": []
   },
   "outputs": [],
   "source": [
    "for t_img, t_lb in tqdm(test):\n",
    "    im_path = valid_path / t_img.name\n",
    "    lb_path = valid_path / t_lb.name\n",
    "    shutil.copy(t_img,im_path)\n",
    "    shutil.copy(t_lb,lb_path)"
   ]
  },
  {
   "cell_type": "code",
   "execution_count": 10,
   "id": "35147edb",
   "metadata": {
    "execution": {
     "iopub.execute_input": "2023-08-28T07:08:58.309506Z",
     "iopub.status.busy": "2023-08-28T07:08:58.309218Z",
     "iopub.status.idle": "2023-08-28T07:08:58.315090Z",
     "shell.execute_reply": "2023-08-28T07:08:58.314081Z"
    },
    "papermill": {
     "duration": 0.017343,
     "end_time": "2023-08-28T07:08:58.317247",
     "exception": false,
     "start_time": "2023-08-28T07:08:58.299904",
     "status": "completed"
    },
    "tags": []
   },
   "outputs": [],
   "source": [
    "yaml_file = 'names:\\n'\n",
    "yaml_file += '\\n'.join(f'- {c}' for c in classes)\n",
    "yaml_file += f'\\nnc: {len(classes)}'\n",
    "yaml_file += f'\\ntrain: {str(train_path)}\\nval: {str(valid_path)}'\n",
    "with open('kitti.yaml','w') as f:\n",
    "    f.write(yaml_file)"
   ]
  },
  {
   "cell_type": "code",
   "execution_count": null,
   "id": "33652846",
   "metadata": {
    "execution": {
     "iopub.execute_input": "2023-08-28T07:08:58.335052Z",
     "iopub.status.busy": "2023-08-28T07:08:58.334770Z",
     "iopub.status.idle": "2023-08-28T07:08:59.369217Z",
     "shell.execute_reply": "2023-08-28T07:08:59.368000Z"
    },
    "papermill": {
     "duration": 1.046453,
     "end_time": "2023-08-28T07:08:59.371951",
     "exception": false,
     "start_time": "2023-08-28T07:08:58.325498",
     "status": "completed"
    },
    "tags": []
   },
   "outputs": [],
   "source": [
    "!cat kitti.yaml"
   ]
  },
  {
   "cell_type": "code",
   "execution_count": null,
   "id": "a5969edd",
   "metadata": {
    "execution": {
     "iopub.execute_input": "2023-08-28T07:08:59.427048Z",
     "iopub.status.busy": "2023-08-28T07:08:59.426641Z",
     "iopub.status.idle": "2023-08-28T07:09:00.396978Z",
     "shell.execute_reply": "2023-08-28T07:09:00.394982Z"
    },
    "papermill": {
     "duration": 0.986395,
     "end_time": "2023-08-28T07:09:00.399511",
     "exception": false,
     "start_time": "2023-08-28T07:08:59.413116",
     "status": "completed"
    },
    "tags": []
   },
   "outputs": [],
   "source": [
    "model = YOLO('yolov8n.yaml')\n",
    "model = YOLO('yolov8n.pt')"
   ]
  },
  {
   "cell_type": "code",
   "execution_count": null,
   "id": "a56f3df5",
   "metadata": {
    "execution": {
     "iopub.execute_input": "2023-08-28T07:09:00.445306Z",
     "iopub.status.busy": "2023-08-28T07:09:00.444483Z",
     "iopub.status.idle": "2023-08-28T07:44:09.917198Z",
     "shell.execute_reply": "2023-08-28T07:44:09.915889Z"
    },
    "papermill": {
     "duration": 2109.488719,
     "end_time": "2023-08-28T07:44:09.921051",
     "exception": false,
     "start_time": "2023-08-28T07:09:00.432332",
     "status": "completed"
    },
    "tags": []
   },
   "outputs": [],
   "source": [
    "train_results = model.train(\n",
    "    data='./kitti.yaml', \n",
    "    epochs=10,\n",
    "    patience=3,\n",
    "    mixup=0.1,\n",
    "    project='yolov8n-kitti',\n",
    "    device='cpu'\n",
    ")"
   ]
  },
  {
   "cell_type": "code",
   "execution_count": null,
   "id": "cb9af5ad",
   "metadata": {
    "execution": {
     "iopub.execute_input": "2023-08-28T07:44:12.990503Z",
     "iopub.status.busy": "2023-08-28T07:44:12.990108Z",
     "iopub.status.idle": "2023-08-28T07:44:36.232463Z",
     "shell.execute_reply": "2023-08-28T07:44:36.231372Z"
    },
    "papermill": {
     "duration": 23.983083,
     "end_time": "2023-08-28T07:44:36.235518",
     "exception": false,
     "start_time": "2023-08-28T07:44:12.252435",
     "status": "completed"
    },
    "tags": []
   },
   "outputs": [],
   "source": [
    "valid_results = model.val(name='val')"
   ]
  },
  {
   "cell_type": "code",
   "execution_count": null,
   "id": "aaace3a3",
   "metadata": {
    "execution": {
     "iopub.execute_input": "2023-08-28T07:44:39.298340Z",
     "iopub.status.busy": "2023-08-28T07:44:39.297942Z",
     "iopub.status.idle": "2023-08-28T07:44:39.843486Z",
     "shell.execute_reply": "2023-08-28T07:44:39.842400Z"
    },
    "papermill": {
     "duration": 1.295295,
     "end_time": "2023-08-28T07:44:39.846088",
     "exception": false,
     "start_time": "2023-08-28T07:44:38.550793",
     "status": "completed"
    },
    "tags": []
   },
   "outputs": [],
   "source": [
    "plt.figure(figsize=(10,20))\n",
    "plt.imshow(Image.open('./yolov8n-kitti/train/results.png'))\n",
    "plt.axis('off')\n",
    "plt.show()"
   ]
  },
  {
   "cell_type": "code",
   "execution_count": null,
   "id": "60fb2f56",
   "metadata": {
    "execution": {
     "iopub.execute_input": "2023-08-28T07:44:41.463419Z",
     "iopub.status.busy": "2023-08-28T07:44:41.462921Z",
     "iopub.status.idle": "2023-08-28T07:44:42.437774Z",
     "shell.execute_reply": "2023-08-28T07:44:42.436741Z"
    },
    "papermill": {
     "duration": 1.780661,
     "end_time": "2023-08-28T07:44:42.440146",
     "exception": false,
     "start_time": "2023-08-28T07:44:40.659485",
     "status": "completed"
    },
    "tags": []
   },
   "outputs": [],
   "source": [
    "plt.figure(figsize=(10,20))\n",
    "plt.imshow(Image.open('./yolov8n-kitti/train/confusion_matrix.png'))\n",
    "plt.axis('off')\n",
    "plt.show()"
   ]
  },
  {
   "cell_type": "code",
   "execution_count": null,
   "id": "cd11d9cc",
   "metadata": {
    "execution": {
     "iopub.execute_input": "2023-08-28T07:44:45.578898Z",
     "iopub.status.busy": "2023-08-28T07:44:45.578492Z",
     "iopub.status.idle": "2023-08-28T07:44:48.105706Z",
     "shell.execute_reply": "2023-08-28T07:44:48.104482Z"
    },
    "papermill": {
     "duration": 3.341034,
     "end_time": "2023-08-28T07:44:48.108126",
     "exception": false,
     "start_time": "2023-08-28T07:44:44.767092",
     "status": "completed"
    },
    "tags": []
   },
   "outputs": [],
   "source": [
    "preds = model.predict([test[idx][0] for idx in np.random.randint(0,len(test),(20,))],save=True,name='predict')"
   ]
  },
  {
   "cell_type": "code",
   "execution_count": 29,
   "id": "701d4a40",
   "metadata": {
    "execution": {
     "iopub.execute_input": "2023-08-28T07:44:49.604652Z",
     "iopub.status.busy": "2023-08-28T07:44:49.604260Z",
     "iopub.status.idle": "2023-08-28T07:44:49.610166Z",
     "shell.execute_reply": "2023-08-28T07:44:49.609113Z"
    },
    "papermill": {
     "duration": 0.754302,
     "end_time": "2023-08-28T07:44:49.612250",
     "exception": false,
     "start_time": "2023-08-28T07:44:48.857948",
     "status": "completed"
    },
    "tags": []
   },
   "outputs": [],
   "source": [
    "preds = list(Path('yolov8n-kitti/predict').glob('*'))"
   ]
  },
  {
   "cell_type": "code",
   "execution_count": null,
   "id": "3a21f0ea",
   "metadata": {
    "execution": {
     "iopub.execute_input": "2023-08-28T07:44:51.150086Z",
     "iopub.status.busy": "2023-08-28T07:44:51.149704Z",
     "iopub.status.idle": "2023-08-28T07:45:00.839143Z",
     "shell.execute_reply": "2023-08-28T07:45:00.837764Z"
    },
    "papermill": {
     "duration": 10.74942,
     "end_time": "2023-08-28T07:45:01.102468",
     "exception": false,
     "start_time": "2023-08-28T07:44:50.353048",
     "status": "completed"
    },
    "tags": []
   },
   "outputs": [],
   "source": [
    "def plot_images(images):\n",
    "    num_images = len(images)\n",
    "    rows = num_images\n",
    "    cols = 1\n",
    "    fig, axes = plt.subplots(rows, cols, figsize=(15, 80))\n",
    "    for ax in axes.flat:\n",
    "        ax.axis('off')\n",
    "    for i, img_path in enumerate(images):\n",
    "        img = Image.open(img_path)\n",
    "        axes[i].imshow(img)\n",
    "    \n",
    "    plt.tight_layout()\n",
    "    plt.show()\n",
    "    \n",
    "plot_images(preds)"
   ]
  }
 ],
 "metadata": {
  "kernelspec": {
   "display_name": "auto",
   "language": "python",
   "name": "python3"
  },
  "language_info": {
   "codemirror_mode": {
    "name": "ipython",
    "version": 3
   },
   "file_extension": ".py",
   "mimetype": "text/x-python",
   "name": "python",
   "nbconvert_exporter": "python",
   "pygments_lexer": "ipython3",
   "version": "3.9.21"
  },
  "papermill": {
   "default_parameters": {},
   "duration": 2379.030403,
   "end_time": "2023-08-28T07:45:23.657296",
   "environment_variables": {},
   "exception": null,
   "input_path": "__notebook__.ipynb",
   "output_path": "__notebook__.ipynb",
   "parameters": {},
   "start_time": "2023-08-28T07:05:44.626893",
   "version": "2.4.0"
  },
  "widgets": {
   "application/vnd.jupyter.widget-state+json": {
    "state": {
     "28d567381c0c49299fd1e0845bb42445": {
      "model_module": "@jupyter-widgets/controls",
      "model_module_version": "1.5.0",
      "model_name": "DescriptionStyleModel",
      "state": {
       "_model_module": "@jupyter-widgets/controls",
       "_model_module_version": "1.5.0",
       "_model_name": "DescriptionStyleModel",
       "_view_count": null,
       "_view_module": "@jupyter-widgets/base",
       "_view_module_version": "1.2.0",
       "_view_name": "StyleView",
       "description_width": ""
      }
     },
     "31e4bc33c2b244c5986dbecb4d94fe40": {
      "model_module": "@jupyter-widgets/base",
      "model_module_version": "1.2.0",
      "model_name": "LayoutModel",
      "state": {
       "_model_module": "@jupyter-widgets/base",
       "_model_module_version": "1.2.0",
       "_model_name": "LayoutModel",
       "_view_count": null,
       "_view_module": "@jupyter-widgets/base",
       "_view_module_version": "1.2.0",
       "_view_name": "LayoutView",
       "align_content": null,
       "align_items": null,
       "align_self": null,
       "border": null,
       "bottom": null,
       "display": null,
       "flex": null,
       "flex_flow": null,
       "grid_area": null,
       "grid_auto_columns": null,
       "grid_auto_flow": null,
       "grid_auto_rows": null,
       "grid_column": null,
       "grid_gap": null,
       "grid_row": null,
       "grid_template_areas": null,
       "grid_template_columns": null,
       "grid_template_rows": null,
       "height": null,
       "justify_content": null,
       "justify_items": null,
       "left": null,
       "margin": null,
       "max_height": null,
       "max_width": null,
       "min_height": null,
       "min_width": null,
       "object_fit": null,
       "object_position": null,
       "order": null,
       "overflow": null,
       "overflow_x": null,
       "overflow_y": null,
       "padding": null,
       "right": null,
       "top": null,
       "visibility": null,
       "width": null
      }
     },
     "396da3e143a240c696991863fb9b1106": {
      "model_module": "@jupyter-widgets/base",
      "model_module_version": "1.2.0",
      "model_name": "LayoutModel",
      "state": {
       "_model_module": "@jupyter-widgets/base",
       "_model_module_version": "1.2.0",
       "_model_name": "LayoutModel",
       "_view_count": null,
       "_view_module": "@jupyter-widgets/base",
       "_view_module_version": "1.2.0",
       "_view_name": "LayoutView",
       "align_content": null,
       "align_items": null,
       "align_self": null,
       "border": null,
       "bottom": null,
       "display": null,
       "flex": null,
       "flex_flow": null,
       "grid_area": null,
       "grid_auto_columns": null,
       "grid_auto_flow": null,
       "grid_auto_rows": null,
       "grid_column": null,
       "grid_gap": null,
       "grid_row": null,
       "grid_template_areas": null,
       "grid_template_columns": null,
       "grid_template_rows": null,
       "height": null,
       "justify_content": null,
       "justify_items": null,
       "left": null,
       "margin": null,
       "max_height": null,
       "max_width": null,
       "min_height": null,
       "min_width": null,
       "object_fit": null,
       "object_position": null,
       "order": null,
       "overflow": null,
       "overflow_x": null,
       "overflow_y": null,
       "padding": null,
       "right": null,
       "top": null,
       "visibility": null,
       "width": null
      }
     },
     "3cb1bbe319b3451f8835560dc65a69a3": {
      "model_module": "@jupyter-widgets/controls",
      "model_module_version": "1.5.0",
      "model_name": "HTMLModel",
      "state": {
       "_dom_classes": [],
       "_model_module": "@jupyter-widgets/controls",
       "_model_module_version": "1.5.0",
       "_model_name": "HTMLModel",
       "_view_count": null,
       "_view_module": "@jupyter-widgets/controls",
       "_view_module_version": "1.5.0",
       "_view_name": "HTMLView",
       "description": "",
       "description_tooltip": null,
       "layout": "IPY_MODEL_396da3e143a240c696991863fb9b1106",
       "placeholder": "​",
       "style": "IPY_MODEL_628b67197c334f6aaad20790770567e1",
       "value": "100%"
      }
     },
     "4e338133b2d24e7ba31b109fcf53714f": {
      "model_module": "@jupyter-widgets/controls",
      "model_module_version": "1.5.0",
      "model_name": "HTMLModel",
      "state": {
       "_dom_classes": [],
       "_model_module": "@jupyter-widgets/controls",
       "_model_module_version": "1.5.0",
       "_model_name": "HTMLModel",
       "_view_count": null,
       "_view_module": "@jupyter-widgets/controls",
       "_view_module_version": "1.5.0",
       "_view_name": "HTMLView",
       "description": "",
       "description_tooltip": null,
       "layout": "IPY_MODEL_c0479765467a4c73a8bc4337d0256a9e",
       "placeholder": "​",
       "style": "IPY_MODEL_28d567381c0c49299fd1e0845bb42445",
       "value": " 749/749 [00:15&lt;00:00, 51.61it/s]"
      }
     },
     "512a2d6796434cd3b09d7d8dd9af6c80": {
      "model_module": "@jupyter-widgets/base",
      "model_module_version": "1.2.0",
      "model_name": "LayoutModel",
      "state": {
       "_model_module": "@jupyter-widgets/base",
       "_model_module_version": "1.2.0",
       "_model_name": "LayoutModel",
       "_view_count": null,
       "_view_module": "@jupyter-widgets/base",
       "_view_module_version": "1.2.0",
       "_view_name": "LayoutView",
       "align_content": null,
       "align_items": null,
       "align_self": null,
       "border": null,
       "bottom": null,
       "display": null,
       "flex": null,
       "flex_flow": null,
       "grid_area": null,
       "grid_auto_columns": null,
       "grid_auto_flow": null,
       "grid_auto_rows": null,
       "grid_column": null,
       "grid_gap": null,
       "grid_row": null,
       "grid_template_areas": null,
       "grid_template_columns": null,
       "grid_template_rows": null,
       "height": null,
       "justify_content": null,
       "justify_items": null,
       "left": null,
       "margin": null,
       "max_height": null,
       "max_width": null,
       "min_height": null,
       "min_width": null,
       "object_fit": null,
       "object_position": null,
       "order": null,
       "overflow": null,
       "overflow_x": null,
       "overflow_y": null,
       "padding": null,
       "right": null,
       "top": null,
       "visibility": null,
       "width": null
      }
     },
     "5773f107157c438ea6a26e59c5943a41": {
      "model_module": "@jupyter-widgets/controls",
      "model_module_version": "1.5.0",
      "model_name": "HBoxModel",
      "state": {
       "_dom_classes": [],
       "_model_module": "@jupyter-widgets/controls",
       "_model_module_version": "1.5.0",
       "_model_name": "HBoxModel",
       "_view_count": null,
       "_view_module": "@jupyter-widgets/controls",
       "_view_module_version": "1.5.0",
       "_view_name": "HBoxView",
       "box_style": "",
       "children": [
        "IPY_MODEL_84e6b0d354ab43efb4f5d29b61e1ad01",
        "IPY_MODEL_78b6b2b3b70a478199c446067b330c34",
        "IPY_MODEL_dce04b1ea60a4eddb610a4d8f4b0cb78"
       ],
       "layout": "IPY_MODEL_64733a90b05d4440845c756d4776293f"
      }
     },
     "628b67197c334f6aaad20790770567e1": {
      "model_module": "@jupyter-widgets/controls",
      "model_module_version": "1.5.0",
      "model_name": "DescriptionStyleModel",
      "state": {
       "_model_module": "@jupyter-widgets/controls",
       "_model_module_version": "1.5.0",
       "_model_name": "DescriptionStyleModel",
       "_view_count": null,
       "_view_module": "@jupyter-widgets/base",
       "_view_module_version": "1.2.0",
       "_view_name": "StyleView",
       "description_width": ""
      }
     },
     "62bfce86fdf14d729d74d0cf4b3697ce": {
      "model_module": "@jupyter-widgets/controls",
      "model_module_version": "1.5.0",
      "model_name": "DescriptionStyleModel",
      "state": {
       "_model_module": "@jupyter-widgets/controls",
       "_model_module_version": "1.5.0",
       "_model_name": "DescriptionStyleModel",
       "_view_count": null,
       "_view_module": "@jupyter-widgets/base",
       "_view_module_version": "1.2.0",
       "_view_name": "StyleView",
       "description_width": ""
      }
     },
     "631b8665aa174a1ba8281c6b53baf777": {
      "model_module": "@jupyter-widgets/base",
      "model_module_version": "1.2.0",
      "model_name": "LayoutModel",
      "state": {
       "_model_module": "@jupyter-widgets/base",
       "_model_module_version": "1.2.0",
       "_model_name": "LayoutModel",
       "_view_count": null,
       "_view_module": "@jupyter-widgets/base",
       "_view_module_version": "1.2.0",
       "_view_name": "LayoutView",
       "align_content": null,
       "align_items": null,
       "align_self": null,
       "border": null,
       "bottom": null,
       "display": null,
       "flex": null,
       "flex_flow": null,
       "grid_area": null,
       "grid_auto_columns": null,
       "grid_auto_flow": null,
       "grid_auto_rows": null,
       "grid_column": null,
       "grid_gap": null,
       "grid_row": null,
       "grid_template_areas": null,
       "grid_template_columns": null,
       "grid_template_rows": null,
       "height": null,
       "justify_content": null,
       "justify_items": null,
       "left": null,
       "margin": null,
       "max_height": null,
       "max_width": null,
       "min_height": null,
       "min_width": null,
       "object_fit": null,
       "object_position": null,
       "order": null,
       "overflow": null,
       "overflow_x": null,
       "overflow_y": null,
       "padding": null,
       "right": null,
       "top": null,
       "visibility": null,
       "width": null
      }
     },
     "64733a90b05d4440845c756d4776293f": {
      "model_module": "@jupyter-widgets/base",
      "model_module_version": "1.2.0",
      "model_name": "LayoutModel",
      "state": {
       "_model_module": "@jupyter-widgets/base",
       "_model_module_version": "1.2.0",
       "_model_name": "LayoutModel",
       "_view_count": null,
       "_view_module": "@jupyter-widgets/base",
       "_view_module_version": "1.2.0",
       "_view_name": "LayoutView",
       "align_content": null,
       "align_items": null,
       "align_self": null,
       "border": null,
       "bottom": null,
       "display": null,
       "flex": null,
       "flex_flow": null,
       "grid_area": null,
       "grid_auto_columns": null,
       "grid_auto_flow": null,
       "grid_auto_rows": null,
       "grid_column": null,
       "grid_gap": null,
       "grid_row": null,
       "grid_template_areas": null,
       "grid_template_columns": null,
       "grid_template_rows": null,
       "height": null,
       "justify_content": null,
       "justify_items": null,
       "left": null,
       "margin": null,
       "max_height": null,
       "max_width": null,
       "min_height": null,
       "min_width": null,
       "object_fit": null,
       "object_position": null,
       "order": null,
       "overflow": null,
       "overflow_x": null,
       "overflow_y": null,
       "padding": null,
       "right": null,
       "top": null,
       "visibility": null,
       "width": null
      }
     },
     "68f54c6e6c9e4210865dc595661a3f94": {
      "model_module": "@jupyter-widgets/controls",
      "model_module_version": "1.5.0",
      "model_name": "HBoxModel",
      "state": {
       "_dom_classes": [],
       "_model_module": "@jupyter-widgets/controls",
       "_model_module_version": "1.5.0",
       "_model_name": "HBoxModel",
       "_view_count": null,
       "_view_module": "@jupyter-widgets/controls",
       "_view_module_version": "1.5.0",
       "_view_name": "HBoxView",
       "box_style": "",
       "children": [
        "IPY_MODEL_3cb1bbe319b3451f8835560dc65a69a3",
        "IPY_MODEL_fa89891ed671479885391dfee37217e4",
        "IPY_MODEL_4e338133b2d24e7ba31b109fcf53714f"
       ],
       "layout": "IPY_MODEL_631b8665aa174a1ba8281c6b53baf777"
      }
     },
     "78b6b2b3b70a478199c446067b330c34": {
      "model_module": "@jupyter-widgets/controls",
      "model_module_version": "1.5.0",
      "model_name": "FloatProgressModel",
      "state": {
       "_dom_classes": [],
       "_model_module": "@jupyter-widgets/controls",
       "_model_module_version": "1.5.0",
       "_model_name": "FloatProgressModel",
       "_view_count": null,
       "_view_module": "@jupyter-widgets/controls",
       "_view_module_version": "1.5.0",
       "_view_name": "ProgressView",
       "bar_style": "success",
       "description": "",
       "description_tooltip": null,
       "layout": "IPY_MODEL_512a2d6796434cd3b09d7d8dd9af6c80",
       "max": 6732,
       "min": 0,
       "orientation": "horizontal",
       "style": "IPY_MODEL_a51cc077015646d89935f83830f3a5f0",
       "value": 6732
      }
     },
     "7980f96f41714ba183800ea128e182c7": {
      "model_module": "@jupyter-widgets/controls",
      "model_module_version": "1.5.0",
      "model_name": "DescriptionStyleModel",
      "state": {
       "_model_module": "@jupyter-widgets/controls",
       "_model_module_version": "1.5.0",
       "_model_name": "DescriptionStyleModel",
       "_view_count": null,
       "_view_module": "@jupyter-widgets/base",
       "_view_module_version": "1.2.0",
       "_view_name": "StyleView",
       "description_width": ""
      }
     },
     "84e6b0d354ab43efb4f5d29b61e1ad01": {
      "model_module": "@jupyter-widgets/controls",
      "model_module_version": "1.5.0",
      "model_name": "HTMLModel",
      "state": {
       "_dom_classes": [],
       "_model_module": "@jupyter-widgets/controls",
       "_model_module_version": "1.5.0",
       "_model_name": "HTMLModel",
       "_view_count": null,
       "_view_module": "@jupyter-widgets/controls",
       "_view_module_version": "1.5.0",
       "_view_name": "HTMLView",
       "description": "",
       "description_tooltip": null,
       "layout": "IPY_MODEL_31e4bc33c2b244c5986dbecb4d94fe40",
       "placeholder": "​",
       "style": "IPY_MODEL_62bfce86fdf14d729d74d0cf4b3697ce",
       "value": "100%"
      }
     },
     "8a675392138b40038c2c8486e2be18ff": {
      "model_module": "@jupyter-widgets/controls",
      "model_module_version": "1.5.0",
      "model_name": "ProgressStyleModel",
      "state": {
       "_model_module": "@jupyter-widgets/controls",
       "_model_module_version": "1.5.0",
       "_model_name": "ProgressStyleModel",
       "_view_count": null,
       "_view_module": "@jupyter-widgets/base",
       "_view_module_version": "1.2.0",
       "_view_name": "StyleView",
       "bar_color": null,
       "description_width": ""
      }
     },
     "a51cc077015646d89935f83830f3a5f0": {
      "model_module": "@jupyter-widgets/controls",
      "model_module_version": "1.5.0",
      "model_name": "ProgressStyleModel",
      "state": {
       "_model_module": "@jupyter-widgets/controls",
       "_model_module_version": "1.5.0",
       "_model_name": "ProgressStyleModel",
       "_view_count": null,
       "_view_module": "@jupyter-widgets/base",
       "_view_module_version": "1.2.0",
       "_view_name": "StyleView",
       "bar_color": null,
       "description_width": ""
      }
     },
     "c0479765467a4c73a8bc4337d0256a9e": {
      "model_module": "@jupyter-widgets/base",
      "model_module_version": "1.2.0",
      "model_name": "LayoutModel",
      "state": {
       "_model_module": "@jupyter-widgets/base",
       "_model_module_version": "1.2.0",
       "_model_name": "LayoutModel",
       "_view_count": null,
       "_view_module": "@jupyter-widgets/base",
       "_view_module_version": "1.2.0",
       "_view_name": "LayoutView",
       "align_content": null,
       "align_items": null,
       "align_self": null,
       "border": null,
       "bottom": null,
       "display": null,
       "flex": null,
       "flex_flow": null,
       "grid_area": null,
       "grid_auto_columns": null,
       "grid_auto_flow": null,
       "grid_auto_rows": null,
       "grid_column": null,
       "grid_gap": null,
       "grid_row": null,
       "grid_template_areas": null,
       "grid_template_columns": null,
       "grid_template_rows": null,
       "height": null,
       "justify_content": null,
       "justify_items": null,
       "left": null,
       "margin": null,
       "max_height": null,
       "max_width": null,
       "min_height": null,
       "min_width": null,
       "object_fit": null,
       "object_position": null,
       "order": null,
       "overflow": null,
       "overflow_x": null,
       "overflow_y": null,
       "padding": null,
       "right": null,
       "top": null,
       "visibility": null,
       "width": null
      }
     },
     "c65ba282e1c34b9095602a35994af724": {
      "model_module": "@jupyter-widgets/base",
      "model_module_version": "1.2.0",
      "model_name": "LayoutModel",
      "state": {
       "_model_module": "@jupyter-widgets/base",
       "_model_module_version": "1.2.0",
       "_model_name": "LayoutModel",
       "_view_count": null,
       "_view_module": "@jupyter-widgets/base",
       "_view_module_version": "1.2.0",
       "_view_name": "LayoutView",
       "align_content": null,
       "align_items": null,
       "align_self": null,
       "border": null,
       "bottom": null,
       "display": null,
       "flex": null,
       "flex_flow": null,
       "grid_area": null,
       "grid_auto_columns": null,
       "grid_auto_flow": null,
       "grid_auto_rows": null,
       "grid_column": null,
       "grid_gap": null,
       "grid_row": null,
       "grid_template_areas": null,
       "grid_template_columns": null,
       "grid_template_rows": null,
       "height": null,
       "justify_content": null,
       "justify_items": null,
       "left": null,
       "margin": null,
       "max_height": null,
       "max_width": null,
       "min_height": null,
       "min_width": null,
       "object_fit": null,
       "object_position": null,
       "order": null,
       "overflow": null,
       "overflow_x": null,
       "overflow_y": null,
       "padding": null,
       "right": null,
       "top": null,
       "visibility": null,
       "width": null
      }
     },
     "caa02330ebd7470e9823801456519018": {
      "model_module": "@jupyter-widgets/base",
      "model_module_version": "1.2.0",
      "model_name": "LayoutModel",
      "state": {
       "_model_module": "@jupyter-widgets/base",
       "_model_module_version": "1.2.0",
       "_model_name": "LayoutModel",
       "_view_count": null,
       "_view_module": "@jupyter-widgets/base",
       "_view_module_version": "1.2.0",
       "_view_name": "LayoutView",
       "align_content": null,
       "align_items": null,
       "align_self": null,
       "border": null,
       "bottom": null,
       "display": null,
       "flex": null,
       "flex_flow": null,
       "grid_area": null,
       "grid_auto_columns": null,
       "grid_auto_flow": null,
       "grid_auto_rows": null,
       "grid_column": null,
       "grid_gap": null,
       "grid_row": null,
       "grid_template_areas": null,
       "grid_template_columns": null,
       "grid_template_rows": null,
       "height": null,
       "justify_content": null,
       "justify_items": null,
       "left": null,
       "margin": null,
       "max_height": null,
       "max_width": null,
       "min_height": null,
       "min_width": null,
       "object_fit": null,
       "object_position": null,
       "order": null,
       "overflow": null,
       "overflow_x": null,
       "overflow_y": null,
       "padding": null,
       "right": null,
       "top": null,
       "visibility": null,
       "width": null
      }
     },
     "dce04b1ea60a4eddb610a4d8f4b0cb78": {
      "model_module": "@jupyter-widgets/controls",
      "model_module_version": "1.5.0",
      "model_name": "HTMLModel",
      "state": {
       "_dom_classes": [],
       "_model_module": "@jupyter-widgets/controls",
       "_model_module_version": "1.5.0",
       "_model_name": "HTMLModel",
       "_view_count": null,
       "_view_module": "@jupyter-widgets/controls",
       "_view_module_version": "1.5.0",
       "_view_name": "HTMLView",
       "description": "",
       "description_tooltip": null,
       "layout": "IPY_MODEL_c65ba282e1c34b9095602a35994af724",
       "placeholder": "​",
       "style": "IPY_MODEL_7980f96f41714ba183800ea128e182c7",
       "value": " 6732/6732 [02:28&lt;00:00, 49.54it/s]"
      }
     },
     "fa89891ed671479885391dfee37217e4": {
      "model_module": "@jupyter-widgets/controls",
      "model_module_version": "1.5.0",
      "model_name": "FloatProgressModel",
      "state": {
       "_dom_classes": [],
       "_model_module": "@jupyter-widgets/controls",
       "_model_module_version": "1.5.0",
       "_model_name": "FloatProgressModel",
       "_view_count": null,
       "_view_module": "@jupyter-widgets/controls",
       "_view_module_version": "1.5.0",
       "_view_name": "ProgressView",
       "bar_style": "success",
       "description": "",
       "description_tooltip": null,
       "layout": "IPY_MODEL_caa02330ebd7470e9823801456519018",
       "max": 749,
       "min": 0,
       "orientation": "horizontal",
       "style": "IPY_MODEL_8a675392138b40038c2c8486e2be18ff",
       "value": 749
      }
     }
    },
    "version_major": 2,
    "version_minor": 0
   }
  }
 },
 "nbformat": 4,
 "nbformat_minor": 5
}
